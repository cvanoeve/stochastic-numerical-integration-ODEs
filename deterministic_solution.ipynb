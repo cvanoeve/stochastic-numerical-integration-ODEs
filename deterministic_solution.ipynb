{
 "cells": [
  {
   "cell_type": "code",
   "execution_count": 6,
   "metadata": {},
   "outputs": [],
   "source": "import numpy as np, matplotlib.pyplot as plt\nfrom scipy.integrate import odeint\nimport numpy as np\nimport math"
  },
  {
   "cell_type": "markdown",
   "metadata": {},
   "source": "#### Parameters "
  },
  {
   "cell_type": "code",
   "execution_count": 52,
   "metadata": {},
   "outputs": [],
   "source": "kClb1s = 0.002\nkClb1sp = 0.2\nkClb1spp = 0.1\nkClb1d = 0.1\nkClb1dp = 0.2\nkClb1dpp = 0.02\n\nkClb3s = 0.002\nkClb3sp = 0.5\nkClb3d = 0.2\nkClb3Cdc20d = 0.2\n\nkCdc20s = 0.2\nkCdc20d = 0.1\nkCdc20Clb1p = 0.1\nkCdc20Clb3p = 0.1\nkCdc20a = 0.1\nJCdc20Clb3 = 0.1\nJCdc20clb1 = 0.1\nJCdc20 = 0.1\nkClb1Cdc20d = 0.05\nkClb3Cdc20d = 0.05\n\nkClb4s = 0.2\nkClb4sp = 0.1\nkClb4d = 0.2\nkClb4dp = 1\nkClb4dpp = 0.02\n\nkSPa = 2\nkSPi = 2\nJSP = 0.01\n\nkCdc5s = 0.004\nkCdc5sp = 0.03\nkCdc5spp = 0.02\nkCdc5d = 0.02\nkCdc5dp = 0.06\nkCdc5dpp = 0.002\nkCdc5a = 0.1\nkCdc5ap = 0.4\nkCdc5app = 0.3\nkCdc5i = 0.1\n\nkNdd1s = 0.03\nkNdd1d = 0.0001\nkNdd1dp = 1\nkNdd1dpp = 0.02\nkNdd1a = 0.1\nkNdd1ap = 0.2\nkNdd1app = 0.04\nkNdd1i = 0.2\nJNdd1 = 0.04\n\nkHcm1d = 0.02\n\nkNdt80s = 0.01\nkNdt80sp = 2\nkNdt80d = 0.4\nkNdt80dp = 0.1\nJNdt80p = 0.2\nalpha = 1\nbeta = 0.1\nki = 0.01\n\nkSum1i = 0.025\nkSum1a = 0.000001\nkSum1ip = 0.1\nkSum1ipp = 1\nkSum1ap = 0.01\nkSum1ippp = 0.25\nkSum1app = 1\n\nkAma1a = 0.1\nkAma1i = 0.0\nkAma1ip = 0.1\nJAma1 = 0.1\nkAIas = 10\nkAIds = 1\nkAma1clb3p = 0.1\n\nkAIs = 0.1\nkAId = 0.15\n\nkRCa = 1\nkRCi = 0.1\nkRCip = 2\nJRC = 0.01\n\nkAma1s = 0.01\nkAma1dp = 0.01"
  },
  {
   "cell_type": "markdown",
   "metadata": {},
   "source": "#### ODE System"
  },
  {
   "cell_type": "code",
   "execution_count": 53,
   "metadata": {},
   "outputs": [],
   "source": "# p is the system vector p=[f1, f2, f3, f4, ..., f19]\n# 0  -> clb1\n# 1  -> clb3\n# 2  -> cdc20T\n# 3  -> cdc20\n# 4  -> clb4\n# 5  -> sp\n# 6  -> cdc5t\n# 7  -> cdc5a \n# 8  -> ndd1t\n# 9  -> ndd1a\n# 10 -> hcm1\n# 11 -> ndt80\n# 12 -> sum1iIme2\n# 13 -> sum1iCdk1\n# 14 -> sum1iRC\n# 15 -> ama1p\n# 16 -> rc\n# 17 -> dsb\n# 18 -> ama1t\n\ndef ode_system(p,t):\n    # time functions\n    kDSBi = 0.02\n    Sum1T = 1\n    Dmc1 = 1\n    Sum1I = lambda t: p[12]*p[13]*p[14]/(Sum1T * Sum1T)\n    JNdt80 = lambda t: JNdt80p*(1+(alpha*(Sum1T-p[12])+beta*(p[12]-Sum1I(t)))/ki)\n    Ama1 = lambda t: p[18]-p[15]\n    Rim4 = lambda t: (1-math.tanh(0.2*(t-240)))/2\n    \n    # system equations\n    clb1_dt = kClb1s+kClb1sp*p[11]-(kClb1d+kClb1dp*Ama1(t)+kClb1Cdc20d*p[3])*p[0]\n    clb3_dt = kClb3s-(kClb3d+kClb3Cdc20d*p[3])*p[1]+5*kClb3sp*(1-Rim4(t))*math.exp(-(t-240)/25)\n    cdc20T_dt = kCdc20s-kCdc20d*p[2]\n    cdc20_dt = kCdc20Clb1p*p[0]*(p[2]-p[3])/(JCdc20clb1+p[2]-p[3])+kCdc20Clb3p*p[1]*(p[2]-p[3])/(JCdc20Clb3+p[2]-p[3])-kCdc20a*p[3]/(JCdc20+p[3])-kCdc20d*p[3]\n    clb4_dt = kClb4s+kClb4sp*p[11]-(kClb4d+kClb4dp*Ama1(t))*p[4]\n    sp_dt = kSPa*(p[0]+p[4])*((1-p[5])/(JSP+1-p[5]))-kSPi*p[5]/(JSP+p[5])\n    cdc5t_dt = kCdc5s+kCdc5sp*p[11]-(kCdc5d+kCdc5dp*Ama1(t))*p[6]\n    cdc5a_dt = (kCdc5a+kCdc5ap*p[0]+kCdc5app*p[4])*(p[6]-p[7])-kCdc5i*p[7]-(kCdc5d+kCdc5dp*Ama1(t))*p[7]\n    ndd1t_dt = 0\n    ndd1a_dt = 0\n    hcm1_dt = -kHcm1d*p[10]\n    ndt80_dt = kNdt80s+kNdt80sp*p[11]/(JNdt80(t)+p[11])-kNdt80d*p[11]-kNdt80dp*Ama1(t)*p[11]\n    sum1iIme2_dt = kSum1i*(Sum1T-p[12])-kSum1a*p[12]\n    sum1iCdk1_dt = (kSum1ip+kSum1ipp*(p[0]+p[4]))*(Sum1T-p[13])-kSum1ap*p[13]\n    sum1iRC_dt = kSum1ippp*(Sum1T-p[14])-kSum1app*p[16]*p[14]\n    ama1p_dt = (kAma1i+kAma1ip*p[0])*(p[18]-p[15])/(JAma1+p[18]-p[15])-kAma1a*p[15]/(JAma1+p[15])+kAma1clb3p*p[1]*(p[18]-p[15])/(JAma1+p[18]-p[15])\n    rc_dt = kRCa*p[17]*(1-p[16])/(JRC+1-p[16])-(kRCi+kRCip*p[7])*p[16]/(JRC+p[16])\n    dsb_dt = -kDSBi*p[17]*Dmc1\n    ama1t_dt = (kAma1s-kAma1dp*p[18])+40*kAma1s*(1-Rim4(t))*math.exp(-(t-240)/100)\n    return clb1_dt,clb3_dt,cdc20T_dt,cdc20_dt,clb4_dt,sp_dt,cdc5t_dt,cdc5a_dt,ndd1t_dt,ndd1a_dt,hcm1_dt,ndt80_dt,sum1iIme2_dt,sum1iCdk1_dt,sum1iRC_dt,ama1p_dt,rc_dt,dsb_dt,ama1t_dt"
  },
  {
   "cell_type": "markdown",
   "metadata": {},
   "source": "#### Initial conditions for p vector"
  },
  {
   "cell_type": "code",
   "execution_count": 54,
   "metadata": {},
   "outputs": [],
   "source": "p_init = [0,0,0,0,0,0,0,1,0,0,0,0,0,0,1,1,0,0,0]"
  },
  {
   "cell_type": "markdown",
   "metadata": {},
   "source": "#### Use scipy odeint to get the determinitstic solution my numerically intergrating the ODE system"
  },
  {
   "cell_type": "code",
   "execution_count": 55,
   "metadata": {},
   "outputs": [
    {
     "name": "stderr",
     "output_type": "stream",
     "text": "/Library/Frameworks/Python.framework/Versions/3.6/lib/python3.6/site-packages/scipy/integrate/odepack.py:248: ODEintWarning: Excess work done on this call (perhaps wrong Dfun type). Run with full_output = 1 to get quantitative information.\n  warnings.warn(warning_msg, ODEintWarning)\n"
    }
   ],
   "source": "p_t = odeint(func=ode_system,y0=p_init,t=np.arange(0,662))"
  },
  {
   "cell_type": "code",
   "execution_count": 62,
   "metadata": {},
   "outputs": [
    {
     "data": {
      "text/plain": "array([[0.        , 0.        , 0.        , ..., 0.        , 0.        ,\n        0.        ],\n       [0.00305182, 0.00181269, 0.19032516, ..., 0.        , 0.        ,\n        0.00995017],\n       [0.00798222, 0.00329677, 0.36253849, ..., 0.        , 0.        ,\n        0.01980133],\n       ...,\n       [0.        , 0.        , 0.        , ..., 0.        , 0.        ,\n        0.        ],\n       [0.        , 0.        , 0.        , ..., 0.        , 0.        ,\n        0.        ],\n       [0.        , 0.        , 0.        , ..., 0.        , 0.        ,\n        0.        ]])"
     },
     "execution_count": 62,
     "metadata": {},
     "output_type": "execute_result"
    }
   ],
   "source": "p_t"
  }
 ],
 "metadata": {
  "kernelspec": {
   "display_name": "Python 3",
   "language": "python",
   "name": "python3"
  },
  "language_info": {
   "codemirror_mode": {
    "name": "ipython",
    "version": 3
   },
   "file_extension": ".py",
   "mimetype": "text/x-python",
   "name": "python",
   "nbconvert_exporter": "python",
   "pygments_lexer": "ipython3",
   "version": "3.6.7"
  }
 },
 "nbformat": 4,
 "nbformat_minor": 4
}
